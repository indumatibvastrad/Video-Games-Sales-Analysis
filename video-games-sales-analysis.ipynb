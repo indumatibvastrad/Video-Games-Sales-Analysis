{
 "cells": [
  {
   "cell_type": "markdown",
   "id": "55163be3",
   "metadata": {
    "papermill": {
     "duration": 0.014405,
     "end_time": "2023-09-13T14:15:51.871784",
     "exception": false,
     "start_time": "2023-09-13T14:15:51.857379",
     "status": "completed"
    },
    "tags": []
   },
   "source": [
    "**HELLO! In this EDA project we will performing Video Games Sales Analysis which is present in kaggle platform.In this EDA Project we will analyze and visualize our dataset.**"
   ]
  },
  {
   "cell_type": "markdown",
   "id": "1f53261a",
   "metadata": {
    "papermill": {
     "duration": 0.012252,
     "end_time": "2023-09-13T14:15:51.896458",
     "exception": false,
     "start_time": "2023-09-13T14:15:51.884206",
     "status": "completed"
    },
    "tags": []
   },
   "source": [
    "# **Importing Libraries**"
   ]
  },
  {
   "cell_type": "markdown",
   "id": "cccd23e3",
   "metadata": {
    "papermill": {
     "duration": 0.012362,
     "end_time": "2023-09-13T14:15:51.921535",
     "exception": false,
     "start_time": "2023-09-13T14:15:51.909173",
     "status": "completed"
    },
    "tags": []
   },
   "source": [
    "**For the analysis, we have to immport some python libraries. Thus, we'll import pandas for analysis and matplotlib for the visualization purpose**"
   ]
  },
  {
   "cell_type": "code",
   "execution_count": 1,
   "id": "7326a5e7",
   "metadata": {
    "execution": {
     "iopub.execute_input": "2023-09-13T14:15:51.949187Z",
     "iopub.status.busy": "2023-09-13T14:15:51.948433Z",
     "iopub.status.idle": "2023-09-13T14:15:53.799115Z",
     "shell.execute_reply": "2023-09-13T14:15:53.798038Z"
    },
    "papermill": {
     "duration": 1.868201,
     "end_time": "2023-09-13T14:15:53.801993",
     "exception": false,
     "start_time": "2023-09-13T14:15:51.933792",
     "status": "completed"
    },
    "tags": []
   },
   "outputs": [],
   "source": [
    "import numpy as np\n",
    "import pandas as pd\n",
    "import matplotlib.pyplot as plt\n",
    "import seaborn as sns"
   ]
  },
  {
   "cell_type": "markdown",
   "id": "81cd7608",
   "metadata": {
    "papermill": {
     "duration": 0.013964,
     "end_time": "2023-09-13T14:15:53.829462",
     "exception": false,
     "start_time": "2023-09-13T14:15:53.815498",
     "status": "completed"
    },
    "tags": []
   },
   "source": [
    "# **Importing Dataset**\n",
    "\n",
    "**For our EDA project, we are importing the dataset from Kaggle named - 'Video Game Sales'**"
   ]
  },
  {
   "cell_type": "code",
   "execution_count": 2,
   "id": "cddb73f9",
   "metadata": {
    "execution": {
     "iopub.execute_input": "2023-09-13T14:15:53.858788Z",
     "iopub.status.busy": "2023-09-13T14:15:53.857925Z",
     "iopub.status.idle": "2023-09-13T14:15:53.987987Z",
     "shell.execute_reply": "2023-09-13T14:15:53.986972Z"
    },
    "papermill": {
     "duration": 0.147593,
     "end_time": "2023-09-13T14:15:53.990491",
     "exception": false,
     "start_time": "2023-09-13T14:15:53.842898",
     "status": "completed"
    },
    "tags": []
   },
   "outputs": [
    {
     "data": {
      "text/html": [
       "<div>\n",
       "<style scoped>\n",
       "    .dataframe tbody tr th:only-of-type {\n",
       "        vertical-align: middle;\n",
       "    }\n",
       "\n",
       "    .dataframe tbody tr th {\n",
       "        vertical-align: top;\n",
       "    }\n",
       "\n",
       "    .dataframe thead th {\n",
       "        text-align: right;\n",
       "    }\n",
       "</style>\n",
       "<table border=\"1\" class=\"dataframe\">\n",
       "  <thead>\n",
       "    <tr style=\"text-align: right;\">\n",
       "      <th></th>\n",
       "      <th>Name</th>\n",
       "      <th>Platform</th>\n",
       "      <th>Year</th>\n",
       "      <th>Genre</th>\n",
       "      <th>Publisher</th>\n",
       "      <th>NA_Sales</th>\n",
       "      <th>EU_Sales</th>\n",
       "      <th>JP_Sales</th>\n",
       "      <th>Other_Sales</th>\n",
       "      <th>Global_Sales</th>\n",
       "    </tr>\n",
       "    <tr>\n",
       "      <th>Rank</th>\n",
       "      <th></th>\n",
       "      <th></th>\n",
       "      <th></th>\n",
       "      <th></th>\n",
       "      <th></th>\n",
       "      <th></th>\n",
       "      <th></th>\n",
       "      <th></th>\n",
       "      <th></th>\n",
       "      <th></th>\n",
       "    </tr>\n",
       "  </thead>\n",
       "  <tbody>\n",
       "    <tr>\n",
       "      <th>1</th>\n",
       "      <td>Wii Sports</td>\n",
       "      <td>Wii</td>\n",
       "      <td>2006.0</td>\n",
       "      <td>Sports</td>\n",
       "      <td>Nintendo</td>\n",
       "      <td>41.49</td>\n",
       "      <td>29.02</td>\n",
       "      <td>3.77</td>\n",
       "      <td>8.46</td>\n",
       "      <td>82.74</td>\n",
       "    </tr>\n",
       "    <tr>\n",
       "      <th>2</th>\n",
       "      <td>Super Mario Bros.</td>\n",
       "      <td>NES</td>\n",
       "      <td>1985.0</td>\n",
       "      <td>Platform</td>\n",
       "      <td>Nintendo</td>\n",
       "      <td>29.08</td>\n",
       "      <td>3.58</td>\n",
       "      <td>6.81</td>\n",
       "      <td>0.77</td>\n",
       "      <td>40.24</td>\n",
       "    </tr>\n",
       "    <tr>\n",
       "      <th>3</th>\n",
       "      <td>Mario Kart Wii</td>\n",
       "      <td>Wii</td>\n",
       "      <td>2008.0</td>\n",
       "      <td>Racing</td>\n",
       "      <td>Nintendo</td>\n",
       "      <td>15.85</td>\n",
       "      <td>12.88</td>\n",
       "      <td>3.79</td>\n",
       "      <td>3.31</td>\n",
       "      <td>35.82</td>\n",
       "    </tr>\n",
       "    <tr>\n",
       "      <th>4</th>\n",
       "      <td>Wii Sports Resort</td>\n",
       "      <td>Wii</td>\n",
       "      <td>2009.0</td>\n",
       "      <td>Sports</td>\n",
       "      <td>Nintendo</td>\n",
       "      <td>15.75</td>\n",
       "      <td>11.01</td>\n",
       "      <td>3.28</td>\n",
       "      <td>2.96</td>\n",
       "      <td>33.00</td>\n",
       "    </tr>\n",
       "    <tr>\n",
       "      <th>5</th>\n",
       "      <td>Pokemon Red/Pokemon Blue</td>\n",
       "      <td>GB</td>\n",
       "      <td>1996.0</td>\n",
       "      <td>Role-Playing</td>\n",
       "      <td>Nintendo</td>\n",
       "      <td>11.27</td>\n",
       "      <td>8.89</td>\n",
       "      <td>10.22</td>\n",
       "      <td>1.00</td>\n",
       "      <td>31.37</td>\n",
       "    </tr>\n",
       "    <tr>\n",
       "      <th>...</th>\n",
       "      <td>...</td>\n",
       "      <td>...</td>\n",
       "      <td>...</td>\n",
       "      <td>...</td>\n",
       "      <td>...</td>\n",
       "      <td>...</td>\n",
       "      <td>...</td>\n",
       "      <td>...</td>\n",
       "      <td>...</td>\n",
       "      <td>...</td>\n",
       "    </tr>\n",
       "    <tr>\n",
       "      <th>16596</th>\n",
       "      <td>Woody Woodpecker in Crazy Castle 5</td>\n",
       "      <td>GBA</td>\n",
       "      <td>2002.0</td>\n",
       "      <td>Platform</td>\n",
       "      <td>Kemco</td>\n",
       "      <td>0.01</td>\n",
       "      <td>0.00</td>\n",
       "      <td>0.00</td>\n",
       "      <td>0.00</td>\n",
       "      <td>0.01</td>\n",
       "    </tr>\n",
       "    <tr>\n",
       "      <th>16597</th>\n",
       "      <td>Men in Black II: Alien Escape</td>\n",
       "      <td>GC</td>\n",
       "      <td>2003.0</td>\n",
       "      <td>Shooter</td>\n",
       "      <td>Infogrames</td>\n",
       "      <td>0.01</td>\n",
       "      <td>0.00</td>\n",
       "      <td>0.00</td>\n",
       "      <td>0.00</td>\n",
       "      <td>0.01</td>\n",
       "    </tr>\n",
       "    <tr>\n",
       "      <th>16598</th>\n",
       "      <td>SCORE International Baja 1000: The Official Game</td>\n",
       "      <td>PS2</td>\n",
       "      <td>2008.0</td>\n",
       "      <td>Racing</td>\n",
       "      <td>Activision</td>\n",
       "      <td>0.00</td>\n",
       "      <td>0.00</td>\n",
       "      <td>0.00</td>\n",
       "      <td>0.00</td>\n",
       "      <td>0.01</td>\n",
       "    </tr>\n",
       "    <tr>\n",
       "      <th>16599</th>\n",
       "      <td>Know How 2</td>\n",
       "      <td>DS</td>\n",
       "      <td>2010.0</td>\n",
       "      <td>Puzzle</td>\n",
       "      <td>7G//AMES</td>\n",
       "      <td>0.00</td>\n",
       "      <td>0.01</td>\n",
       "      <td>0.00</td>\n",
       "      <td>0.00</td>\n",
       "      <td>0.01</td>\n",
       "    </tr>\n",
       "    <tr>\n",
       "      <th>16600</th>\n",
       "      <td>Spirits &amp; Spells</td>\n",
       "      <td>GBA</td>\n",
       "      <td>2003.0</td>\n",
       "      <td>Platform</td>\n",
       "      <td>Wanadoo</td>\n",
       "      <td>0.01</td>\n",
       "      <td>0.00</td>\n",
       "      <td>0.00</td>\n",
       "      <td>0.00</td>\n",
       "      <td>0.01</td>\n",
       "    </tr>\n",
       "  </tbody>\n",
       "</table>\n",
       "<p>16598 rows × 10 columns</p>\n",
       "</div>"
      ],
      "text/plain": [
       "                                                   Name Platform    Year  \\\n",
       "Rank                                                                       \n",
       "1                                            Wii Sports      Wii  2006.0   \n",
       "2                                     Super Mario Bros.      NES  1985.0   \n",
       "3                                        Mario Kart Wii      Wii  2008.0   \n",
       "4                                     Wii Sports Resort      Wii  2009.0   \n",
       "5                              Pokemon Red/Pokemon Blue       GB  1996.0   \n",
       "...                                                 ...      ...     ...   \n",
       "16596                Woody Woodpecker in Crazy Castle 5      GBA  2002.0   \n",
       "16597                     Men in Black II: Alien Escape       GC  2003.0   \n",
       "16598  SCORE International Baja 1000: The Official Game      PS2  2008.0   \n",
       "16599                                        Know How 2       DS  2010.0   \n",
       "16600                                  Spirits & Spells      GBA  2003.0   \n",
       "\n",
       "              Genre   Publisher  NA_Sales  EU_Sales  JP_Sales  Other_Sales  \\\n",
       "Rank                                                                         \n",
       "1            Sports    Nintendo     41.49     29.02      3.77         8.46   \n",
       "2          Platform    Nintendo     29.08      3.58      6.81         0.77   \n",
       "3            Racing    Nintendo     15.85     12.88      3.79         3.31   \n",
       "4            Sports    Nintendo     15.75     11.01      3.28         2.96   \n",
       "5      Role-Playing    Nintendo     11.27      8.89     10.22         1.00   \n",
       "...             ...         ...       ...       ...       ...          ...   \n",
       "16596      Platform       Kemco      0.01      0.00      0.00         0.00   \n",
       "16597       Shooter  Infogrames      0.01      0.00      0.00         0.00   \n",
       "16598        Racing  Activision      0.00      0.00      0.00         0.00   \n",
       "16599        Puzzle    7G//AMES      0.00      0.01      0.00         0.00   \n",
       "16600      Platform     Wanadoo      0.01      0.00      0.00         0.00   \n",
       "\n",
       "       Global_Sales  \n",
       "Rank                 \n",
       "1             82.74  \n",
       "2             40.24  \n",
       "3             35.82  \n",
       "4             33.00  \n",
       "5             31.37  \n",
       "...             ...  \n",
       "16596          0.01  \n",
       "16597          0.01  \n",
       "16598          0.01  \n",
       "16599          0.01  \n",
       "16600          0.01  \n",
       "\n",
       "[16598 rows x 10 columns]"
      ]
     },
     "execution_count": 2,
     "metadata": {},
     "output_type": "execute_result"
    }
   ],
   "source": [
    "data= pd.read_csv('/kaggle/input/videogamesales/vgsales.csv', index_col='Rank')\n",
    "data"
   ]
  },
  {
   "cell_type": "markdown",
   "id": "6962976b",
   "metadata": {
    "papermill": {
     "duration": 0.013114,
     "end_time": "2023-09-13T14:15:54.017430",
     "exception": false,
     "start_time": "2023-09-13T14:15:54.004316",
     "status": "completed"
    },
    "tags": []
   },
   "source": [
    "**For the analysis, the minimum dimensions the datset must have is 150 rows x 3 columns. However, as we can see, our dataset comprises of 16598 rows × 10 columns, which allows us to continue with this dataset**"
   ]
  },
  {
   "cell_type": "markdown",
   "id": "4ce36ae3",
   "metadata": {
    "papermill": {
     "duration": 0.012857,
     "end_time": "2023-09-13T14:15:54.043441",
     "exception": false,
     "start_time": "2023-09-13T14:15:54.030584",
     "status": "completed"
    },
    "tags": []
   },
   "source": [
    "# **Data preparation & cleaning**"
   ]
  },
  {
   "cell_type": "markdown",
   "id": "458f606a",
   "metadata": {
    "papermill": {
     "duration": 0.013413,
     "end_time": "2023-09-13T14:15:54.069908",
     "exception": false,
     "start_time": "2023-09-13T14:15:54.056495",
     "status": "completed"
    },
    "tags": []
   },
   "source": [
    "**How many rows and columns are there in this datataset**"
   ]
  },
  {
   "cell_type": "code",
   "execution_count": 3,
   "id": "d4ca9cc6",
   "metadata": {
    "execution": {
     "iopub.execute_input": "2023-09-13T14:15:54.099037Z",
     "iopub.status.busy": "2023-09-13T14:15:54.098441Z",
     "iopub.status.idle": "2023-09-13T14:15:54.104753Z",
     "shell.execute_reply": "2023-09-13T14:15:54.103954Z"
    },
    "papermill": {
     "duration": 0.02332,
     "end_time": "2023-09-13T14:15:54.106899",
     "exception": false,
     "start_time": "2023-09-13T14:15:54.083579",
     "status": "completed"
    },
    "tags": []
   },
   "outputs": [
    {
     "data": {
      "text/plain": [
       "(16598, 10)"
      ]
     },
     "execution_count": 3,
     "metadata": {},
     "output_type": "execute_result"
    }
   ],
   "source": [
    "data.shape"
   ]
  },
  {
   "cell_type": "code",
   "execution_count": 4,
   "id": "538c14dd",
   "metadata": {
    "execution": {
     "iopub.execute_input": "2023-09-13T14:15:54.136883Z",
     "iopub.status.busy": "2023-09-13T14:15:54.136233Z",
     "iopub.status.idle": "2023-09-13T14:15:54.143059Z",
     "shell.execute_reply": "2023-09-13T14:15:54.142135Z"
    },
    "papermill": {
     "duration": 0.024641,
     "end_time": "2023-09-13T14:15:54.145122",
     "exception": false,
     "start_time": "2023-09-13T14:15:54.120481",
     "status": "completed"
    },
    "tags": []
   },
   "outputs": [
    {
     "data": {
      "text/plain": [
       "Index(['Name', 'Platform', 'Year', 'Genre', 'Publisher', 'NA_Sales',\n",
       "       'EU_Sales', 'JP_Sales', 'Other_Sales', 'Global_Sales'],\n",
       "      dtype='object')"
      ]
     },
     "execution_count": 4,
     "metadata": {},
     "output_type": "execute_result"
    }
   ],
   "source": [
    "data.columns"
   ]
  },
  {
   "cell_type": "markdown",
   "id": "3a5c8f74",
   "metadata": {
    "papermill": {
     "duration": 0.013709,
     "end_time": "2023-09-13T14:15:54.172689",
     "exception": false,
     "start_time": "2023-09-13T14:15:54.158980",
     "status": "completed"
    },
    "tags": []
   },
   "source": [
    "**What does the columns mean and what is it used for?**"
   ]
  },
  {
   "cell_type": "code",
   "execution_count": 5,
   "id": "2f1bf0f1",
   "metadata": {
    "execution": {
     "iopub.execute_input": "2023-09-13T14:15:54.203540Z",
     "iopub.status.busy": "2023-09-13T14:15:54.202854Z",
     "iopub.status.idle": "2023-09-13T14:15:54.231697Z",
     "shell.execute_reply": "2023-09-13T14:15:54.230284Z"
    },
    "papermill": {
     "duration": 0.047391,
     "end_time": "2023-09-13T14:15:54.234460",
     "exception": false,
     "start_time": "2023-09-13T14:15:54.187069",
     "status": "completed"
    },
    "tags": []
   },
   "outputs": [
    {
     "name": "stdout",
     "output_type": "stream",
     "text": [
      "<class 'pandas.core.frame.DataFrame'>\n",
      "Index: 16598 entries, 1 to 16600\n",
      "Data columns (total 10 columns):\n",
      " #   Column        Non-Null Count  Dtype  \n",
      "---  ------        --------------  -----  \n",
      " 0   Name          16598 non-null  object \n",
      " 1   Platform      16598 non-null  object \n",
      " 2   Year          16327 non-null  float64\n",
      " 3   Genre         16598 non-null  object \n",
      " 4   Publisher     16540 non-null  object \n",
      " 5   NA_Sales      16598 non-null  float64\n",
      " 6   EU_Sales      16598 non-null  float64\n",
      " 7   JP_Sales      16598 non-null  float64\n",
      " 8   Other_Sales   16598 non-null  float64\n",
      " 9   Global_Sales  16598 non-null  float64\n",
      "dtypes: float64(6), object(4)\n",
      "memory usage: 1.4+ MB\n"
     ]
    }
   ],
   "source": [
    "data.info()"
   ]
  },
  {
   "cell_type": "markdown",
   "id": "f1943a8e",
   "metadata": {
    "papermill": {
     "duration": 0.014046,
     "end_time": "2023-09-13T14:15:54.262827",
     "exception": false,
     "start_time": "2023-09-13T14:15:54.248781",
     "status": "completed"
    },
    "tags": []
   },
   "source": [
    "**What are the top game genre and their names?**"
   ]
  },
  {
   "cell_type": "code",
   "execution_count": 6,
   "id": "b3189a3e",
   "metadata": {
    "execution": {
     "iopub.execute_input": "2023-09-13T14:15:54.293723Z",
     "iopub.status.busy": "2023-09-13T14:15:54.293119Z",
     "iopub.status.idle": "2023-09-13T14:15:54.311673Z",
     "shell.execute_reply": "2023-09-13T14:15:54.310246Z"
    },
    "papermill": {
     "duration": 0.036818,
     "end_time": "2023-09-13T14:15:54.314238",
     "exception": false,
     "start_time": "2023-09-13T14:15:54.277420",
     "status": "completed"
    },
    "tags": []
   },
   "outputs": [
    {
     "data": {
      "text/html": [
       "<div>\n",
       "<style scoped>\n",
       "    .dataframe tbody tr th:only-of-type {\n",
       "        vertical-align: middle;\n",
       "    }\n",
       "\n",
       "    .dataframe tbody tr th {\n",
       "        vertical-align: top;\n",
       "    }\n",
       "\n",
       "    .dataframe thead th {\n",
       "        text-align: right;\n",
       "    }\n",
       "</style>\n",
       "<table border=\"1\" class=\"dataframe\">\n",
       "  <thead>\n",
       "    <tr style=\"text-align: right;\">\n",
       "      <th></th>\n",
       "      <th>Name</th>\n",
       "      <th>Platform</th>\n",
       "      <th>Year</th>\n",
       "      <th>Genre</th>\n",
       "      <th>Publisher</th>\n",
       "      <th>NA_Sales</th>\n",
       "      <th>EU_Sales</th>\n",
       "      <th>JP_Sales</th>\n",
       "      <th>Other_Sales</th>\n",
       "      <th>Global_Sales</th>\n",
       "    </tr>\n",
       "    <tr>\n",
       "      <th>Rank</th>\n",
       "      <th></th>\n",
       "      <th></th>\n",
       "      <th></th>\n",
       "      <th></th>\n",
       "      <th></th>\n",
       "      <th></th>\n",
       "      <th></th>\n",
       "      <th></th>\n",
       "      <th></th>\n",
       "      <th></th>\n",
       "    </tr>\n",
       "  </thead>\n",
       "  <tbody>\n",
       "    <tr>\n",
       "      <th>1</th>\n",
       "      <td>Wii Sports</td>\n",
       "      <td>Wii</td>\n",
       "      <td>2006.0</td>\n",
       "      <td>Sports</td>\n",
       "      <td>Nintendo</td>\n",
       "      <td>41.49</td>\n",
       "      <td>29.02</td>\n",
       "      <td>3.77</td>\n",
       "      <td>8.46</td>\n",
       "      <td>82.74</td>\n",
       "    </tr>\n",
       "    <tr>\n",
       "      <th>2</th>\n",
       "      <td>Super Mario Bros.</td>\n",
       "      <td>NES</td>\n",
       "      <td>1985.0</td>\n",
       "      <td>Platform</td>\n",
       "      <td>Nintendo</td>\n",
       "      <td>29.08</td>\n",
       "      <td>3.58</td>\n",
       "      <td>6.81</td>\n",
       "      <td>0.77</td>\n",
       "      <td>40.24</td>\n",
       "    </tr>\n",
       "    <tr>\n",
       "      <th>3</th>\n",
       "      <td>Mario Kart Wii</td>\n",
       "      <td>Wii</td>\n",
       "      <td>2008.0</td>\n",
       "      <td>Racing</td>\n",
       "      <td>Nintendo</td>\n",
       "      <td>15.85</td>\n",
       "      <td>12.88</td>\n",
       "      <td>3.79</td>\n",
       "      <td>3.31</td>\n",
       "      <td>35.82</td>\n",
       "    </tr>\n",
       "    <tr>\n",
       "      <th>4</th>\n",
       "      <td>Wii Sports Resort</td>\n",
       "      <td>Wii</td>\n",
       "      <td>2009.0</td>\n",
       "      <td>Sports</td>\n",
       "      <td>Nintendo</td>\n",
       "      <td>15.75</td>\n",
       "      <td>11.01</td>\n",
       "      <td>3.28</td>\n",
       "      <td>2.96</td>\n",
       "      <td>33.00</td>\n",
       "    </tr>\n",
       "    <tr>\n",
       "      <th>5</th>\n",
       "      <td>Pokemon Red/Pokemon Blue</td>\n",
       "      <td>GB</td>\n",
       "      <td>1996.0</td>\n",
       "      <td>Role-Playing</td>\n",
       "      <td>Nintendo</td>\n",
       "      <td>11.27</td>\n",
       "      <td>8.89</td>\n",
       "      <td>10.22</td>\n",
       "      <td>1.00</td>\n",
       "      <td>31.37</td>\n",
       "    </tr>\n",
       "  </tbody>\n",
       "</table>\n",
       "</div>"
      ],
      "text/plain": [
       "                          Name Platform    Year         Genre Publisher  \\\n",
       "Rank                                                                      \n",
       "1                   Wii Sports      Wii  2006.0        Sports  Nintendo   \n",
       "2            Super Mario Bros.      NES  1985.0      Platform  Nintendo   \n",
       "3               Mario Kart Wii      Wii  2008.0        Racing  Nintendo   \n",
       "4            Wii Sports Resort      Wii  2009.0        Sports  Nintendo   \n",
       "5     Pokemon Red/Pokemon Blue       GB  1996.0  Role-Playing  Nintendo   \n",
       "\n",
       "      NA_Sales  EU_Sales  JP_Sales  Other_Sales  Global_Sales  \n",
       "Rank                                                           \n",
       "1        41.49     29.02      3.77         8.46         82.74  \n",
       "2        29.08      3.58      6.81         0.77         40.24  \n",
       "3        15.85     12.88      3.79         3.31         35.82  \n",
       "4        15.75     11.01      3.28         2.96         33.00  \n",
       "5        11.27      8.89     10.22         1.00         31.37  "
      ]
     },
     "execution_count": 6,
     "metadata": {},
     "output_type": "execute_result"
    }
   ],
   "source": [
    "data.head()"
   ]
  },
  {
   "cell_type": "markdown",
   "id": "b31e1ff9",
   "metadata": {
    "papermill": {
     "duration": 0.014266,
     "end_time": "2023-09-13T14:15:54.343342",
     "exception": false,
     "start_time": "2023-09-13T14:15:54.329076",
     "status": "completed"
    },
    "tags": []
   },
   "source": [
    "**Description of data.**"
   ]
  },
  {
   "cell_type": "code",
   "execution_count": 7,
   "id": "76733704",
   "metadata": {
    "execution": {
     "iopub.execute_input": "2023-09-13T14:15:54.373839Z",
     "iopub.status.busy": "2023-09-13T14:15:54.373198Z",
     "iopub.status.idle": "2023-09-13T14:15:54.406536Z",
     "shell.execute_reply": "2023-09-13T14:15:54.405400Z"
    },
    "papermill": {
     "duration": 0.05135,
     "end_time": "2023-09-13T14:15:54.408811",
     "exception": false,
     "start_time": "2023-09-13T14:15:54.357461",
     "status": "completed"
    },
    "tags": []
   },
   "outputs": [
    {
     "data": {
      "text/html": [
       "<div>\n",
       "<style scoped>\n",
       "    .dataframe tbody tr th:only-of-type {\n",
       "        vertical-align: middle;\n",
       "    }\n",
       "\n",
       "    .dataframe tbody tr th {\n",
       "        vertical-align: top;\n",
       "    }\n",
       "\n",
       "    .dataframe thead th {\n",
       "        text-align: right;\n",
       "    }\n",
       "</style>\n",
       "<table border=\"1\" class=\"dataframe\">\n",
       "  <thead>\n",
       "    <tr style=\"text-align: right;\">\n",
       "      <th></th>\n",
       "      <th>Year</th>\n",
       "      <th>NA_Sales</th>\n",
       "      <th>EU_Sales</th>\n",
       "      <th>JP_Sales</th>\n",
       "      <th>Other_Sales</th>\n",
       "      <th>Global_Sales</th>\n",
       "    </tr>\n",
       "  </thead>\n",
       "  <tbody>\n",
       "    <tr>\n",
       "      <th>count</th>\n",
       "      <td>16327.000000</td>\n",
       "      <td>16598.000000</td>\n",
       "      <td>16598.000000</td>\n",
       "      <td>16598.000000</td>\n",
       "      <td>16598.000000</td>\n",
       "      <td>16598.000000</td>\n",
       "    </tr>\n",
       "    <tr>\n",
       "      <th>mean</th>\n",
       "      <td>2006.406443</td>\n",
       "      <td>0.264667</td>\n",
       "      <td>0.146652</td>\n",
       "      <td>0.077782</td>\n",
       "      <td>0.048063</td>\n",
       "      <td>0.537441</td>\n",
       "    </tr>\n",
       "    <tr>\n",
       "      <th>std</th>\n",
       "      <td>5.828981</td>\n",
       "      <td>0.816683</td>\n",
       "      <td>0.505351</td>\n",
       "      <td>0.309291</td>\n",
       "      <td>0.188588</td>\n",
       "      <td>1.555028</td>\n",
       "    </tr>\n",
       "    <tr>\n",
       "      <th>min</th>\n",
       "      <td>1980.000000</td>\n",
       "      <td>0.000000</td>\n",
       "      <td>0.000000</td>\n",
       "      <td>0.000000</td>\n",
       "      <td>0.000000</td>\n",
       "      <td>0.010000</td>\n",
       "    </tr>\n",
       "    <tr>\n",
       "      <th>25%</th>\n",
       "      <td>2003.000000</td>\n",
       "      <td>0.000000</td>\n",
       "      <td>0.000000</td>\n",
       "      <td>0.000000</td>\n",
       "      <td>0.000000</td>\n",
       "      <td>0.060000</td>\n",
       "    </tr>\n",
       "    <tr>\n",
       "      <th>50%</th>\n",
       "      <td>2007.000000</td>\n",
       "      <td>0.080000</td>\n",
       "      <td>0.020000</td>\n",
       "      <td>0.000000</td>\n",
       "      <td>0.010000</td>\n",
       "      <td>0.170000</td>\n",
       "    </tr>\n",
       "    <tr>\n",
       "      <th>75%</th>\n",
       "      <td>2010.000000</td>\n",
       "      <td>0.240000</td>\n",
       "      <td>0.110000</td>\n",
       "      <td>0.040000</td>\n",
       "      <td>0.040000</td>\n",
       "      <td>0.470000</td>\n",
       "    </tr>\n",
       "    <tr>\n",
       "      <th>max</th>\n",
       "      <td>2020.000000</td>\n",
       "      <td>41.490000</td>\n",
       "      <td>29.020000</td>\n",
       "      <td>10.220000</td>\n",
       "      <td>10.570000</td>\n",
       "      <td>82.740000</td>\n",
       "    </tr>\n",
       "  </tbody>\n",
       "</table>\n",
       "</div>"
      ],
      "text/plain": [
       "               Year      NA_Sales      EU_Sales      JP_Sales   Other_Sales  \\\n",
       "count  16327.000000  16598.000000  16598.000000  16598.000000  16598.000000   \n",
       "mean    2006.406443      0.264667      0.146652      0.077782      0.048063   \n",
       "std        5.828981      0.816683      0.505351      0.309291      0.188588   \n",
       "min     1980.000000      0.000000      0.000000      0.000000      0.000000   \n",
       "25%     2003.000000      0.000000      0.000000      0.000000      0.000000   \n",
       "50%     2007.000000      0.080000      0.020000      0.000000      0.010000   \n",
       "75%     2010.000000      0.240000      0.110000      0.040000      0.040000   \n",
       "max     2020.000000     41.490000     29.020000     10.220000     10.570000   \n",
       "\n",
       "       Global_Sales  \n",
       "count  16598.000000  \n",
       "mean       0.537441  \n",
       "std        1.555028  \n",
       "min        0.010000  \n",
       "25%        0.060000  \n",
       "50%        0.170000  \n",
       "75%        0.470000  \n",
       "max       82.740000  "
      ]
     },
     "execution_count": 7,
     "metadata": {},
     "output_type": "execute_result"
    }
   ],
   "source": [
    "data.describe()   #describe() will return the integer value columns"
   ]
  },
  {
   "cell_type": "markdown",
   "id": "42f4715c",
   "metadata": {
    "papermill": {
     "duration": 0.014704,
     "end_time": "2023-09-13T14:15:54.438443",
     "exception": false,
     "start_time": "2023-09-13T14:15:54.423739",
     "status": "completed"
    },
    "tags": []
   },
   "source": [
    "**Find the unique values**"
   ]
  },
  {
   "cell_type": "code",
   "execution_count": 8,
   "id": "29f769d4",
   "metadata": {
    "execution": {
     "iopub.execute_input": "2023-09-13T14:15:54.528709Z",
     "iopub.status.busy": "2023-09-13T14:15:54.527997Z",
     "iopub.status.idle": "2023-09-13T14:15:54.546956Z",
     "shell.execute_reply": "2023-09-13T14:15:54.545811Z"
    },
    "papermill": {
     "duration": 0.037499,
     "end_time": "2023-09-13T14:15:54.549128",
     "exception": false,
     "start_time": "2023-09-13T14:15:54.511629",
     "status": "completed"
    },
    "tags": []
   },
   "outputs": [
    {
     "data": {
      "text/plain": [
       "Name            11493\n",
       "Platform           31\n",
       "Year               39\n",
       "Genre              12\n",
       "Publisher         578\n",
       "NA_Sales          409\n",
       "EU_Sales          305\n",
       "JP_Sales          244\n",
       "Other_Sales       157\n",
       "Global_Sales      623\n",
       "dtype: int64"
      ]
     },
     "execution_count": 8,
     "metadata": {},
     "output_type": "execute_result"
    }
   ],
   "source": [
    "data.nunique()"
   ]
  },
  {
   "cell_type": "markdown",
   "id": "22a7b8d5",
   "metadata": {
    "papermill": {
     "duration": 0.014631,
     "end_time": "2023-09-13T14:15:54.578781",
     "exception": false,
     "start_time": "2023-09-13T14:15:54.564150",
     "status": "completed"
    },
    "tags": []
   },
   "source": [
    "# **CLEAN THE DATA**"
   ]
  },
  {
   "cell_type": "markdown",
   "id": "c7216573",
   "metadata": {
    "papermill": {
     "duration": 0.014852,
     "end_time": "2023-09-13T14:15:54.608619",
     "exception": false,
     "start_time": "2023-09-13T14:15:54.593767",
     "status": "completed"
    },
    "tags": []
   },
   "source": [
    "**We will check is there any null values or missing values in our dataset and why is it necessary?**"
   ]
  },
  {
   "cell_type": "code",
   "execution_count": 9,
   "id": "c3d13061",
   "metadata": {
    "execution": {
     "iopub.execute_input": "2023-09-13T14:15:54.641338Z",
     "iopub.status.busy": "2023-09-13T14:15:54.640620Z",
     "iopub.status.idle": "2023-09-13T14:15:54.656427Z",
     "shell.execute_reply": "2023-09-13T14:15:54.655287Z"
    },
    "papermill": {
     "duration": 0.034924,
     "end_time": "2023-09-13T14:15:54.658765",
     "exception": false,
     "start_time": "2023-09-13T14:15:54.623841",
     "status": "completed"
    },
    "tags": []
   },
   "outputs": [
    {
     "data": {
      "text/plain": [
       "Name              0\n",
       "Platform          0\n",
       "Year            271\n",
       "Genre             0\n",
       "Publisher        58\n",
       "NA_Sales          0\n",
       "EU_Sales          0\n",
       "JP_Sales          0\n",
       "Other_Sales       0\n",
       "Global_Sales      0\n",
       "dtype: int64"
      ]
     },
     "execution_count": 9,
     "metadata": {},
     "output_type": "execute_result"
    }
   ],
   "source": [
    "data.isnull().sum()  "
   ]
  },
  {
   "cell_type": "markdown",
   "id": "cf7433e3",
   "metadata": {
    "papermill": {
     "duration": 0.015415,
     "end_time": "2023-09-13T14:15:54.690288",
     "exception": false,
     "start_time": "2023-09-13T14:15:54.674873",
     "status": "completed"
    },
    "tags": []
   },
   "source": [
    "As we can see there are not much null value missing in our dataset which becomes handy for our analysis."
   ]
  },
  {
   "cell_type": "markdown",
   "id": "e1cab8fb",
   "metadata": {
    "papermill": {
     "duration": 0.015177,
     "end_time": "2023-09-13T14:15:54.720565",
     "exception": false,
     "start_time": "2023-09-13T14:15:54.705388",
     "status": "completed"
    },
    "tags": []
   },
   "source": [
    "**Filling the null values**"
   ]
  },
  {
   "cell_type": "code",
   "execution_count": 10,
   "id": "1339041a",
   "metadata": {
    "execution": {
     "iopub.execute_input": "2023-09-13T14:15:54.753225Z",
     "iopub.status.busy": "2023-09-13T14:15:54.752760Z",
     "iopub.status.idle": "2023-09-13T14:15:54.763348Z",
     "shell.execute_reply": "2023-09-13T14:15:54.762473Z"
    },
    "papermill": {
     "duration": 0.029724,
     "end_time": "2023-09-13T14:15:54.765556",
     "exception": false,
     "start_time": "2023-09-13T14:15:54.735832",
     "status": "completed"
    },
    "tags": []
   },
   "outputs": [
    {
     "data": {
      "text/plain": [
       "Rank\n",
       "1        2006.0\n",
       "2        1985.0\n",
       "3        2008.0\n",
       "4        2009.0\n",
       "5        1996.0\n",
       "          ...  \n",
       "16596    2002.0\n",
       "16597    2003.0\n",
       "16598    2008.0\n",
       "16599    2010.0\n",
       "16600    2003.0\n",
       "Name: Year, Length: 16598, dtype: float64"
      ]
     },
     "execution_count": 10,
     "metadata": {},
     "output_type": "execute_result"
    }
   ],
   "source": [
    "data[\"Year\"]= data[\"Year\"].fillna(data[\"Year\"].mean())\n",
    "data[\"Year\"]\n"
   ]
  },
  {
   "cell_type": "code",
   "execution_count": 11,
   "id": "64ea205a",
   "metadata": {
    "execution": {
     "iopub.execute_input": "2023-09-13T14:15:54.799488Z",
     "iopub.status.busy": "2023-09-13T14:15:54.798671Z",
     "iopub.status.idle": "2023-09-13T14:15:54.810709Z",
     "shell.execute_reply": "2023-09-13T14:15:54.809721Z"
    },
    "papermill": {
     "duration": 0.031374,
     "end_time": "2023-09-13T14:15:54.812829",
     "exception": false,
     "start_time": "2023-09-13T14:15:54.781455",
     "status": "completed"
    },
    "tags": []
   },
   "outputs": [
    {
     "data": {
      "text/plain": [
       "Rank\n",
       "1          Nintendo\n",
       "2          Nintendo\n",
       "3          Nintendo\n",
       "4          Nintendo\n",
       "5          Nintendo\n",
       "            ...    \n",
       "16596         Kemco\n",
       "16597    Infogrames\n",
       "16598    Activision\n",
       "16599      7G//AMES\n",
       "16600       Wanadoo\n",
       "Name: Publisher, Length: 16598, dtype: object"
      ]
     },
     "execution_count": 11,
     "metadata": {},
     "output_type": "execute_result"
    }
   ],
   "source": [
    "data[\"Publisher\"]= data[\"Publisher\"].fillna(\"xyz\")\n",
    "data[\"Publisher\"]"
   ]
  },
  {
   "cell_type": "code",
   "execution_count": 12,
   "id": "b1c9e296",
   "metadata": {
    "execution": {
     "iopub.execute_input": "2023-09-13T14:15:54.847428Z",
     "iopub.status.busy": "2023-09-13T14:15:54.846805Z",
     "iopub.status.idle": "2023-09-13T14:15:54.863062Z",
     "shell.execute_reply": "2023-09-13T14:15:54.861972Z"
    },
    "papermill": {
     "duration": 0.036047,
     "end_time": "2023-09-13T14:15:54.865478",
     "exception": false,
     "start_time": "2023-09-13T14:15:54.829431",
     "status": "completed"
    },
    "tags": []
   },
   "outputs": [
    {
     "data": {
      "text/plain": [
       "Name            0\n",
       "Platform        0\n",
       "Year            0\n",
       "Genre           0\n",
       "Publisher       0\n",
       "NA_Sales        0\n",
       "EU_Sales        0\n",
       "JP_Sales        0\n",
       "Other_Sales     0\n",
       "Global_Sales    0\n",
       "dtype: int64"
      ]
     },
     "execution_count": 12,
     "metadata": {},
     "output_type": "execute_result"
    }
   ],
   "source": [
    "data.isnull().sum()  #we have cleaned the data"
   ]
  },
  {
   "cell_type": "markdown",
   "id": "354a4c33",
   "metadata": {
    "papermill": {
     "duration": 0.016084,
     "end_time": "2023-09-13T14:15:54.898278",
     "exception": false,
     "start_time": "2023-09-13T14:15:54.882194",
     "status": "completed"
    },
    "tags": []
   },
   "source": [
    "# **EXPLORATORY ANALYSIS & VISUALIZATION**"
   ]
  },
  {
   "cell_type": "markdown",
   "id": "54078e16",
   "metadata": {
    "papermill": {
     "duration": 0.015931,
     "end_time": "2023-09-13T14:15:54.930729",
     "exception": false,
     "start_time": "2023-09-13T14:15:54.914798",
     "status": "completed"
    },
    "tags": []
   },
   "source": [
    "**Now we will see what genre games have been made the most?**"
   ]
  },
  {
   "cell_type": "code",
   "execution_count": 13,
   "id": "0a504ba7",
   "metadata": {
    "execution": {
     "iopub.execute_input": "2023-09-13T14:15:54.965011Z",
     "iopub.status.busy": "2023-09-13T14:15:54.964225Z",
     "iopub.status.idle": "2023-09-13T14:15:54.974676Z",
     "shell.execute_reply": "2023-09-13T14:15:54.973864Z"
    },
    "papermill": {
     "duration": 0.029972,
     "end_time": "2023-09-13T14:15:54.976915",
     "exception": false,
     "start_time": "2023-09-13T14:15:54.946943",
     "status": "completed"
    },
    "tags": []
   },
   "outputs": [
    {
     "data": {
      "text/plain": [
       "Genre\n",
       "Action          3316\n",
       "Sports          2346\n",
       "Misc            1739\n",
       "Role-Playing    1488\n",
       "Shooter         1310\n",
       "Adventure       1286\n",
       "Racing          1249\n",
       "Platform         886\n",
       "Simulation       867\n",
       "Fighting         848\n",
       "Strategy         681\n",
       "Puzzle           582\n",
       "Name: count, dtype: int64"
      ]
     },
     "execution_count": 13,
     "metadata": {},
     "output_type": "execute_result"
    }
   ],
   "source": [
    "data.Genre.value_counts()\n",
    "#data[\"Genre\"].value_counts()\n"
   ]
  },
  {
   "cell_type": "markdown",
   "id": "70f50280",
   "metadata": {
    "papermill": {
     "duration": 0.016083,
     "end_time": "2023-09-13T14:15:55.009173",
     "exception": false,
     "start_time": "2023-09-13T14:15:54.993090",
     "status": "completed"
    },
    "tags": []
   },
   "source": [
    "**Games Released the Most**"
   ]
  },
  {
   "cell_type": "code",
   "execution_count": 14,
   "id": "c8ce99df",
   "metadata": {
    "execution": {
     "iopub.execute_input": "2023-09-13T14:15:55.042538Z",
     "iopub.status.busy": "2023-09-13T14:15:55.042192Z",
     "iopub.status.idle": "2023-09-13T14:15:55.419599Z",
     "shell.execute_reply": "2023-09-13T14:15:55.418270Z"
    },
    "papermill": {
     "duration": 0.397187,
     "end_time": "2023-09-13T14:15:55.422130",
     "exception": false,
     "start_time": "2023-09-13T14:15:55.024943",
     "status": "completed"
    },
    "tags": []
   },
   "outputs": [
    {
     "data": {
      "image/png": "[encoded data removed]",
      "text/plain": [
       "<Figure size 800x400 with 1 Axes>"
      ]
     },
     "metadata": {},
     "output_type": "display_data"
    }
   ],
   "source": [
    "plt.figure(figsize=(8,4))\n",
    "\n",
    "#sns.countplot(x=data.Genre) or \n",
    "#sns.countplot(x='Genre',data=data) \n",
    "#here add'Order' to plot the categorical levels in;otherwise the levels are inferred from the data objects\n",
    "\n",
    "sns.countplot(x=\"Genre\",data=data,order= data.Genre.value_counts().index)\n",
    "\n",
    "plt.xticks(rotation='vertical')\n",
    "\n",
    "plt.title(\"Games released the most\",fontdict={'fontname':\"bold\",'fontsize':20})\n",
    "plt.xlabel(\"Genre\",fontdict={'fontname':\"bold\",'fontsize':15})\n",
    "plt.ylabel(\"Count\",fontdict={'fontname':\"bold\",'fontsize':15})\n",
    "\n",
    "\n",
    "plt.show()"
   ]
  },
  {
   "cell_type": "markdown",
   "id": "4b5967af",
   "metadata": {
    "papermill": {
     "duration": 0.016967,
     "end_time": "2023-09-13T14:15:55.456576",
     "exception": false,
     "start_time": "2023-09-13T14:15:55.439609",
     "status": "completed"
    },
    "tags": []
   },
   "source": [
    "**As we can see in the above diagram that Action and Sports are the most released genre**"
   ]
  },
  {
   "cell_type": "markdown",
   "id": "20071479",
   "metadata": {
    "papermill": {
     "duration": 0.016481,
     "end_time": "2023-09-13T14:15:55.489761",
     "exception": false,
     "start_time": "2023-09-13T14:15:55.473280",
     "status": "completed"
    },
    "tags": []
   },
   "source": [
    "**We also want to see which year has been the most game released?**"
   ]
  },
  {
   "cell_type": "code",
   "execution_count": 15,
   "id": "ad4b47f0",
   "metadata": {
    "execution": {
     "iopub.execute_input": "2023-09-13T14:15:55.525868Z",
     "iopub.status.busy": "2023-09-13T14:15:55.524679Z",
     "iopub.status.idle": "2023-09-13T14:15:56.184967Z",
     "shell.execute_reply": "2023-09-13T14:15:56.184093Z"
    },
    "papermill": {
     "duration": 0.680855,
     "end_time": "2023-09-13T14:15:56.187235",
     "exception": false,
     "start_time": "2023-09-13T14:15:55.506380",
     "status": "completed"
    },
    "tags": []
   },
   "outputs": [
    {
     "data": {
      "image/png": "[encoded data removed]",
      "text/plain": [
       "<Figure size 1800x800 with 1 Axes>"
      ]
     },
     "metadata": {},
     "output_type": "display_data"
    }
   ],
   "source": [
    "\n",
    "plt.figure(figsize=(18,8))\n",
    "\n",
    "sns.countplot(x='Year',data=data,order= data.Year.value_counts().index)\n",
    "\n",
    "plt.xticks(size=13,rotation='vertical')\n",
    "plt.yticks(size=13)\n",
    "\n",
    "plt.title(\"Years in which Games released the most\",fontdict={'fontname':\"bold\",'fontsize':25})\n",
    "plt.xlabel(\"Year\",fontdict={'fontname':\"bold\",'fontsize':20})\n",
    "plt.ylabel(\"Count\",fontdict={'fontname':\"bold\",'fontsize':20})\n",
    "\n",
    "\n",
    "plt.show()"
   ]
  },
  {
   "cell_type": "markdown",
   "id": "298e4586",
   "metadata": {
    "papermill": {
     "duration": 0.018292,
     "end_time": "2023-09-13T14:15:56.223954",
     "exception": false,
     "start_time": "2023-09-13T14:15:56.205662",
     "status": "completed"
    },
    "tags": []
   },
   "source": [
    "**As we can see in the above diagram that the 2009,2008,2010,2007 and 2011 has most games released**"
   ]
  },
  {
   "cell_type": "markdown",
   "id": "7628f86e",
   "metadata": {
    "papermill": {
     "duration": 0.017536,
     "end_time": "2023-09-13T14:15:56.259297",
     "exception": false,
     "start_time": "2023-09-13T14:15:56.241761",
     "status": "completed"
    },
    "tags": []
   },
   "source": [
    "**What are the top 5 games genre release by years?**"
   ]
  },
  {
   "cell_type": "code",
   "execution_count": 16,
   "id": "637417b6",
   "metadata": {
    "execution": {
     "iopub.execute_input": "2023-09-13T14:15:56.296289Z",
     "iopub.status.busy": "2023-09-13T14:15:56.295831Z",
     "iopub.status.idle": "2023-09-13T14:15:57.077058Z",
     "shell.execute_reply": "2023-09-13T14:15:57.075923Z"
    },
    "papermill": {
     "duration": 0.804396,
     "end_time": "2023-09-13T14:15:57.081274",
     "exception": false,
     "start_time": "2023-09-13T14:15:56.276878",
     "status": "completed"
    },
    "tags": []
   },
   "outputs": [
    {
     "data": {
      "image/png": "[encoded data removed]",
      "text/plain": [
       "<Figure size 2000x1000 with 1 Axes>"
      ]
     },
     "metadata": {},
     "output_type": "display_data"
    }
   ],
   "source": [
    "plt.figure(figsize=(20,10))\n",
    "\n",
    "sns.countplot(x=\"Year\",data=data,hue ='Genre',order= data.Year.value_counts().index[:5])\n",
    "\n",
    "plt.xticks(size=16)\n",
    "           \n",
    "plt.title('Top 5 Games Genre released by years',fontsize = 40)\n",
    "plt.xlabel(\"Year\",fontdict={'fontname':\"bold\",'fontsize':20})\n",
    "plt.ylabel(\"Count\",fontdict={'fontname':\"bold\",'fontsize':20})\n",
    "\n",
    "plt.show()"
   ]
  },
  {
   "cell_type": "markdown",
   "id": "44dfbf71",
   "metadata": {
    "papermill": {
     "duration": 0.020847,
     "end_time": "2023-09-13T14:15:57.133995",
     "exception": false,
     "start_time": "2023-09-13T14:15:57.113148",
     "status": "completed"
    },
    "tags": []
   },
   "source": [
    "**Global Sales analysis**"
   ]
  },
  {
   "cell_type": "markdown",
   "id": "44c2450d",
   "metadata": {
    "papermill": {
     "duration": 0.019813,
     "end_time": "2023-09-13T14:15:57.173829",
     "exception": false,
     "start_time": "2023-09-13T14:15:57.154016",
     "status": "completed"
    },
    "tags": []
   },
   "source": [
    "**Which year has been the highest sale worldwide?**"
   ]
  },
  {
   "cell_type": "code",
   "execution_count": 17,
   "id": "bd19fd50",
   "metadata": {
    "execution": {
     "iopub.execute_input": "2023-09-13T14:15:57.222913Z",
     "iopub.status.busy": "2023-09-13T14:15:57.222507Z",
     "iopub.status.idle": "2023-09-13T14:15:57.231566Z",
     "shell.execute_reply": "2023-09-13T14:15:57.230466Z"
    },
    "papermill": {
     "duration": 0.035929,
     "end_time": "2023-09-13T14:15:57.233724",
     "exception": false,
     "start_time": "2023-09-13T14:15:57.197795",
     "status": "completed"
    },
    "tags": []
   },
   "outputs": [
    {
     "data": {
      "text/plain": [
       "Index([0.02, 0.03, 0.04, 0.05, 0.01, 0.06, 0.07, 0.08, 0.09, 0.11,  0.1, 0.12,\n",
       "       0.14, 0.13, 0.15, 0.19, 0.17, 0.16,  0.2, 0.18],\n",
       "      dtype='float64', name='Global_Sales')"
      ]
     },
     "execution_count": 17,
     "metadata": {},
     "output_type": "execute_result"
    }
   ],
   "source": [
    "data[\"Global_Sales\"].value_counts().index[:20]"
   ]
  },
  {
   "cell_type": "code",
   "execution_count": 18,
   "id": "91a1b6e5",
   "metadata": {
    "execution": {
     "iopub.execute_input": "2023-09-13T14:15:57.274748Z",
     "iopub.status.busy": "2023-09-13T14:15:57.273648Z",
     "iopub.status.idle": "2023-09-13T14:15:57.298312Z",
     "shell.execute_reply": "2023-09-13T14:15:57.296322Z"
    },
    "papermill": {
     "duration": 0.048804,
     "end_time": "2023-09-13T14:15:57.302163",
     "exception": false,
     "start_time": "2023-09-13T14:15:57.253359",
     "status": "completed"
    },
    "tags": []
   },
   "outputs": [
    {
     "data": {
      "text/html": [
       "<div>\n",
       "<style scoped>\n",
       "    .dataframe tbody tr th:only-of-type {\n",
       "        vertical-align: middle;\n",
       "    }\n",
       "\n",
       "    .dataframe tbody tr th {\n",
       "        vertical-align: top;\n",
       "    }\n",
       "\n",
       "    .dataframe thead th {\n",
       "        text-align: right;\n",
       "    }\n",
       "</style>\n",
       "<table border=\"1\" class=\"dataframe\">\n",
       "  <thead>\n",
       "    <tr style=\"text-align: right;\">\n",
       "      <th></th>\n",
       "      <th>Year</th>\n",
       "      <th>Global_Sales</th>\n",
       "    </tr>\n",
       "  </thead>\n",
       "  <tbody>\n",
       "    <tr>\n",
       "      <th>0</th>\n",
       "      <td>1980.000000</td>\n",
       "      <td>11.38</td>\n",
       "    </tr>\n",
       "    <tr>\n",
       "      <th>1</th>\n",
       "      <td>1981.000000</td>\n",
       "      <td>35.77</td>\n",
       "    </tr>\n",
       "    <tr>\n",
       "      <th>2</th>\n",
       "      <td>1982.000000</td>\n",
       "      <td>28.86</td>\n",
       "    </tr>\n",
       "    <tr>\n",
       "      <th>3</th>\n",
       "      <td>1983.000000</td>\n",
       "      <td>16.79</td>\n",
       "    </tr>\n",
       "    <tr>\n",
       "      <th>4</th>\n",
       "      <td>1984.000000</td>\n",
       "      <td>50.36</td>\n",
       "    </tr>\n",
       "    <tr>\n",
       "      <th>5</th>\n",
       "      <td>1985.000000</td>\n",
       "      <td>53.94</td>\n",
       "    </tr>\n",
       "    <tr>\n",
       "      <th>6</th>\n",
       "      <td>1986.000000</td>\n",
       "      <td>37.07</td>\n",
       "    </tr>\n",
       "    <tr>\n",
       "      <th>7</th>\n",
       "      <td>1987.000000</td>\n",
       "      <td>21.74</td>\n",
       "    </tr>\n",
       "    <tr>\n",
       "      <th>8</th>\n",
       "      <td>1988.000000</td>\n",
       "      <td>47.22</td>\n",
       "    </tr>\n",
       "    <tr>\n",
       "      <th>9</th>\n",
       "      <td>1989.000000</td>\n",
       "      <td>73.45</td>\n",
       "    </tr>\n",
       "    <tr>\n",
       "      <th>10</th>\n",
       "      <td>1990.000000</td>\n",
       "      <td>49.39</td>\n",
       "    </tr>\n",
       "    <tr>\n",
       "      <th>11</th>\n",
       "      <td>1991.000000</td>\n",
       "      <td>32.23</td>\n",
       "    </tr>\n",
       "    <tr>\n",
       "      <th>12</th>\n",
       "      <td>1992.000000</td>\n",
       "      <td>76.16</td>\n",
       "    </tr>\n",
       "    <tr>\n",
       "      <th>13</th>\n",
       "      <td>1993.000000</td>\n",
       "      <td>45.98</td>\n",
       "    </tr>\n",
       "    <tr>\n",
       "      <th>14</th>\n",
       "      <td>1994.000000</td>\n",
       "      <td>79.17</td>\n",
       "    </tr>\n",
       "    <tr>\n",
       "      <th>15</th>\n",
       "      <td>1995.000000</td>\n",
       "      <td>88.11</td>\n",
       "    </tr>\n",
       "    <tr>\n",
       "      <th>16</th>\n",
       "      <td>1996.000000</td>\n",
       "      <td>199.15</td>\n",
       "    </tr>\n",
       "    <tr>\n",
       "      <th>17</th>\n",
       "      <td>1997.000000</td>\n",
       "      <td>200.98</td>\n",
       "    </tr>\n",
       "    <tr>\n",
       "      <th>18</th>\n",
       "      <td>1998.000000</td>\n",
       "      <td>256.47</td>\n",
       "    </tr>\n",
       "    <tr>\n",
       "      <th>19</th>\n",
       "      <td>1999.000000</td>\n",
       "      <td>251.27</td>\n",
       "    </tr>\n",
       "    <tr>\n",
       "      <th>20</th>\n",
       "      <td>2000.000000</td>\n",
       "      <td>201.56</td>\n",
       "    </tr>\n",
       "    <tr>\n",
       "      <th>21</th>\n",
       "      <td>2001.000000</td>\n",
       "      <td>331.47</td>\n",
       "    </tr>\n",
       "    <tr>\n",
       "      <th>22</th>\n",
       "      <td>2002.000000</td>\n",
       "      <td>395.52</td>\n",
       "    </tr>\n",
       "    <tr>\n",
       "      <th>23</th>\n",
       "      <td>2003.000000</td>\n",
       "      <td>357.85</td>\n",
       "    </tr>\n",
       "    <tr>\n",
       "      <th>24</th>\n",
       "      <td>2004.000000</td>\n",
       "      <td>419.31</td>\n",
       "    </tr>\n",
       "    <tr>\n",
       "      <th>25</th>\n",
       "      <td>2005.000000</td>\n",
       "      <td>459.94</td>\n",
       "    </tr>\n",
       "    <tr>\n",
       "      <th>26</th>\n",
       "      <td>2006.000000</td>\n",
       "      <td>521.04</td>\n",
       "    </tr>\n",
       "    <tr>\n",
       "      <th>27</th>\n",
       "      <td>2006.406443</td>\n",
       "      <td>100.08</td>\n",
       "    </tr>\n",
       "    <tr>\n",
       "      <th>28</th>\n",
       "      <td>2007.000000</td>\n",
       "      <td>611.13</td>\n",
       "    </tr>\n",
       "    <tr>\n",
       "      <th>29</th>\n",
       "      <td>2008.000000</td>\n",
       "      <td>678.90</td>\n",
       "    </tr>\n",
       "    <tr>\n",
       "      <th>30</th>\n",
       "      <td>2009.000000</td>\n",
       "      <td>667.30</td>\n",
       "    </tr>\n",
       "    <tr>\n",
       "      <th>31</th>\n",
       "      <td>2010.000000</td>\n",
       "      <td>600.45</td>\n",
       "    </tr>\n",
       "    <tr>\n",
       "      <th>32</th>\n",
       "      <td>2011.000000</td>\n",
       "      <td>515.99</td>\n",
       "    </tr>\n",
       "    <tr>\n",
       "      <th>33</th>\n",
       "      <td>2012.000000</td>\n",
       "      <td>363.54</td>\n",
       "    </tr>\n",
       "    <tr>\n",
       "      <th>34</th>\n",
       "      <td>2013.000000</td>\n",
       "      <td>368.11</td>\n",
       "    </tr>\n",
       "    <tr>\n",
       "      <th>35</th>\n",
       "      <td>2014.000000</td>\n",
       "      <td>337.05</td>\n",
       "    </tr>\n",
       "    <tr>\n",
       "      <th>36</th>\n",
       "      <td>2015.000000</td>\n",
       "      <td>264.44</td>\n",
       "    </tr>\n",
       "    <tr>\n",
       "      <th>37</th>\n",
       "      <td>2016.000000</td>\n",
       "      <td>70.93</td>\n",
       "    </tr>\n",
       "    <tr>\n",
       "      <th>38</th>\n",
       "      <td>2017.000000</td>\n",
       "      <td>0.05</td>\n",
       "    </tr>\n",
       "    <tr>\n",
       "      <th>39</th>\n",
       "      <td>2020.000000</td>\n",
       "      <td>0.29</td>\n",
       "    </tr>\n",
       "  </tbody>\n",
       "</table>\n",
       "</div>"
      ],
      "text/plain": [
       "           Year  Global_Sales\n",
       "0   1980.000000         11.38\n",
       "1   1981.000000         35.77\n",
       "2   1982.000000         28.86\n",
       "3   1983.000000         16.79\n",
       "4   1984.000000         50.36\n",
       "5   1985.000000         53.94\n",
       "6   1986.000000         37.07\n",
       "7   1987.000000         21.74\n",
       "8   1988.000000         47.22\n",
       "9   1989.000000         73.45\n",
       "10  1990.000000         49.39\n",
       "11  1991.000000         32.23\n",
       "12  1992.000000         76.16\n",
       "13  1993.000000         45.98\n",
       "14  1994.000000         79.17\n",
       "15  1995.000000         88.11\n",
       "16  1996.000000        199.15\n",
       "17  1997.000000        200.98\n",
       "18  1998.000000        256.47\n",
       "19  1999.000000        251.27\n",
       "20  2000.000000        201.56\n",
       "21  2001.000000        331.47\n",
       "22  2002.000000        395.52\n",
       "23  2003.000000        357.85\n",
       "24  2004.000000        419.31\n",
       "25  2005.000000        459.94\n",
       "26  2006.000000        521.04\n",
       "27  2006.406443        100.08\n",
       "28  2007.000000        611.13\n",
       "29  2008.000000        678.90\n",
       "30  2009.000000        667.30\n",
       "31  2010.000000        600.45\n",
       "32  2011.000000        515.99\n",
       "33  2012.000000        363.54\n",
       "34  2013.000000        368.11\n",
       "35  2014.000000        337.05\n",
       "36  2015.000000        264.44\n",
       "37  2016.000000         70.93\n",
       "38  2017.000000          0.05\n",
       "39  2020.000000          0.29"
      ]
     },
     "execution_count": 18,
     "metadata": {},
     "output_type": "execute_result"
    }
   ],
   "source": [
    "data_year=data.groupby('Year')['Global_Sales'].sum()\n",
    "data_year=data_year.reset_index()\n",
    "data_year"
   ]
  },
  {
   "cell_type": "code",
   "execution_count": 19,
   "id": "11399740",
   "metadata": {
    "execution": {
     "iopub.execute_input": "2023-09-13T14:15:57.356362Z",
     "iopub.status.busy": "2023-09-13T14:15:57.355290Z",
     "iopub.status.idle": "2023-09-13T14:15:58.207354Z",
     "shell.execute_reply": "2023-09-13T14:15:58.206271Z"
    },
    "papermill": {
     "duration": 0.88007,
     "end_time": "2023-09-13T14:15:58.209951",
     "exception": false,
     "start_time": "2023-09-13T14:15:57.329881",
     "status": "completed"
    },
    "tags": []
   },
   "outputs": [
    {
     "data": {
      "image/png": "[encoded data removed]",
      "text/plain": [
       "<Figure size 1500x800 with 1 Axes>"
      ]
     },
     "metadata": {},
     "output_type": "display_data"
    }
   ],
   "source": [
    "plt.figure(figsize=(15,8))\n",
    "\n",
    "sns.barplot(x='Year',y='Global_Sales',data=data_year)\n",
    "\n",
    "plt.xticks(rotation='vertical')\n",
    "plt.title('Highest Sale Worldwide',fontsize=40)         #Note labelling the data\n",
    "plt.ylabel('Global_Sales',fontsize=25)                  #Note labelling of y-axis\n",
    "plt.xlabel('Year',fontsize=25)                          #Note labelling of x_axis\n",
    "\n",
    "plt.show()"
   ]
  },
  {
   "cell_type": "markdown",
   "id": "74a938f7",
   "metadata": {
    "papermill": {
     "duration": 0.019409,
     "end_time": "2023-09-13T14:15:58.249708",
     "exception": false,
     "start_time": "2023-09-13T14:15:58.230299",
     "status": "completed"
    },
    "tags": []
   },
   "source": [
    "**As we can see in the above diagram that 2008 and 2009 has been the highest sale worldwide.**"
   ]
  },
  {
   "cell_type": "markdown",
   "id": "df0a2617",
   "metadata": {
    "papermill": {
     "duration": 0.020023,
     "end_time": "2023-09-13T14:15:58.289743",
     "exception": false,
     "start_time": "2023-09-13T14:15:58.269720",
     "status": "completed"
    },
    "tags": []
   },
   "source": [
    "# **SUMMARY**"
   ]
  },
  {
   "cell_type": "markdown",
   "id": "5e97ac2f",
   "metadata": {
    "papermill": {
     "duration": 0.020048,
     "end_time": "2023-09-13T14:15:58.329539",
     "exception": false,
     "start_time": "2023-09-13T14:15:58.309491",
     "status": "completed"
    },
    "tags": []
   },
   "source": [
    "**Some interesting insights from the analysis:**"
   ]
  },
  {
   "cell_type": "markdown",
   "id": "bc3e015a",
   "metadata": {
    "papermill": {
     "duration": 0.019723,
     "end_time": "2023-09-13T14:15:58.369001",
     "exception": false,
     "start_time": "2023-09-13T14:15:58.349278",
     "status": "completed"
    },
    "tags": []
   },
   "source": [
    "* **In Genre Action games released the most and then sports**\n",
    "\n",
    "* **2009,2008,2010,2007 and 2011 has most games released**\n",
    "\n",
    "* **2008 and 2009 has the highest Global Sales**\n",
    "\n"
   ]
  }
 ],
 "kernelspec": {
  "display_name": "Python 3",
  "language": "python",
  "name": "python3"
 },
 "language_info": {
  "codemirror_mode": {
   "name": "ipython",
   "version": 3
  },
  "file_extension": ".py",
  "mimetype": "text/x-python",
  "name": "python",
  "nbconvert_exporter": "python",
  "pygments_lexer": "ipython3",
  "version": "3.6.4"
 },
 "metadata": {
  "kernelspec": {
   "display_name": "Python 3",
   "language": "python",
   "name": "python3"
  },
  "language_info": {
   "codemirror_mode": {
    "name": "ipython",
    "version": 3
   },
   "file_extension": ".py",
   "mimetype": "text/x-python",
   "name": "python",
   "nbconvert_exporter": "python",
   "pygments_lexer": "ipython3",
   "version": "3.10.12"
  },
  "papermill": {
   "default_parameters": {},
   "duration": 10.433723,
   "end_time": "2023-09-13T14:15:58.909044",
   "environment_variables": {},
   "exception": null,
   "input_path": "__notebook__.ipynb",
   "output_path": "__notebook__.ipynb",
   "parameters": {},
   "start_time": "2023-09-13T14:15:48.475321",
   "version": "2.4.0"
  }
 },
 "nbformat": 4,
 "nbformat_minor": 5
}
